{
 "cells": [
  {
   "cell_type": "code",
   "execution_count": 16,
   "id": "90add942-00f2-4aee-802d-2ad42e9be06c",
   "metadata": {},
   "outputs": [],
   "source": [
    "import pyautogui\n",
    "from time import sleep\n",
    "\n"
   ]
  },
  {
   "cell_type": "code",
   "execution_count": 2,
   "id": "07b9d4e7-82d1-4d91-94eb-662cd2604781",
   "metadata": {},
   "outputs": [],
   "source": [
    "import webbrowser as web"
   ]
  },
  {
   "cell_type": "code",
   "execution_count": 49,
   "id": "b3ec2127-fe24-4e38-b8ef-2e2873a1afa2",
   "metadata": {},
   "outputs": [],
   "source": [
    "phone_no='+34616366188'\n",
    "message='Hola Mundo!'\n",
    "web.open(f\"https://web.whatsapp.com/send?phone={phone_no}\")\n",
    "sleep (6)\n",
    "pyautogui.press('enter')\n",
    "sleep(1)\n",
    "pyautogui.hotkey('shift', 'tab')\n",
    "pyautogui.press('enter')\n",
    "pyautogui.press('down')\n",
    "pyautogui.press('enter')\n",
    "pyautogui.hotkey('shift', 'm')\n",
    "pyautogui.write('C:\\\\temp\\\\HORARIOS.pdf')\n",
    "pyautogui.press('enter')\n",
    "sleep(1)\n",
    "pyautogui.press('enter')\n",
    "sleep(5)\n",
    "\n",
    "\n",
    "\n"
   ]
  },
  {
   "cell_type": "code",
   "execution_count": 11,
   "id": "e6402559-aa3b-44f3-8dfc-5c897aaa2145",
   "metadata": {},
   "outputs": [],
   "source": [
    "pyautogui.press('enter')"
   ]
  },
  {
   "cell_type": "code",
   "execution_count": null,
   "id": "8cfa32c1-e8b8-4879-97ad-effa7ece78a2",
   "metadata": {},
   "outputs": [],
   "source": [
    "'C:\\temp\\HORARIOS.pdf'"
   ]
  },
  {
   "cell_type": "code",
   "execution_count": null,
   "id": "074d24b5-f4ea-4540-a01f-863c20397d81",
   "metadata": {},
   "outputs": [],
   "source": []
  }
 ],
 "metadata": {
  "kernelspec": {
   "display_name": "Python 3 (ipykernel)",
   "language": "python",
   "name": "python3"
  },
  "language_info": {
   "codemirror_mode": {
    "name": "ipython",
    "version": 3
   },
   "file_extension": ".py",
   "mimetype": "text/x-python",
   "name": "python",
   "nbconvert_exporter": "python",
   "pygments_lexer": "ipython3",
   "version": "3.11.4"
  }
 },
 "nbformat": 4,
 "nbformat_minor": 5
}
