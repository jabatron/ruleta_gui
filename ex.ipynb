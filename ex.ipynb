{
 "cells": [
  {
   "cell_type": "code",
   "execution_count": 1,
   "metadata": {},
   "outputs": [],
   "source": [
    "import xlrd\n",
    "\n",
    "libro = xlrd.open_workbook('m.xlsx')\n",
    "hoja = libro.sheet_by_index(0)"
   ]
  },
  {
   "cell_type": "code",
   "execution_count": 2,
   "metadata": {},
   "outputs": [
    {
     "data": {
      "text/plain": [
       "2"
      ]
     },
     "execution_count": 2,
     "metadata": {},
     "output_type": "execute_result"
    }
   ],
   "source": [
    "hoja.ncols"
   ]
  },
  {
   "cell_type": "code",
   "execution_count": 3,
   "metadata": {},
   "outputs": [
    {
     "data": {
      "text/plain": [
       "2"
      ]
     },
     "execution_count": 3,
     "metadata": {},
     "output_type": "execute_result"
    }
   ],
   "source": [
    "hoja.nrows"
   ]
  },
  {
   "cell_type": "code",
   "execution_count": 14,
   "metadata": {},
   "outputs": [
    {
     "name": "stdout",
     "output_type": "stream",
     "text": [
      "Numero Mensaje\n",
      "683550308.0 Prueba 1\n"
     ]
    }
   ],
   "source": [
    "for i in range(hoja.nrows):\n",
    "    print (str (hoja.cell_value(i, 0)), hoja.cell_value(i, 1)) "
   ]
  },
  {
   "cell_type": "code",
   "execution_count": 11,
   "metadata": {},
   "outputs": [
    {
     "data": {
      "text/plain": [
       "[number:683550308.0, text:'Prueba 1']"
      ]
     },
     "execution_count": 11,
     "metadata": {},
     "output_type": "execute_result"
    }
   ],
   "source": [
    "hoja.row(1)"
   ]
  },
  {
   "cell_type": "code",
   "execution_count": 45,
   "metadata": {},
   "outputs": [],
   "source": [
    "from openpyxl import load_workbook\n",
    "wb = load_workbook(('m2.xlsx'))"
   ]
  },
  {
   "cell_type": "code",
   "execution_count": 46,
   "metadata": {},
   "outputs": [],
   "source": [
    "sheet = wb.active"
   ]
  },
  {
   "cell_type": "code",
   "execution_count": 51,
   "metadata": {},
   "outputs": [
    {
     "name": "stdout",
     "output_type": "stream",
     "text": [
      "34629922521 Prueba 1\n",
      "34629922521 Prueba 2\n",
      "34629922521 Prueba 3\n",
      "34629922521 Prueba 4\n",
      "34629922521 Prueba 5\n",
      "34629922521 Prueba 6\n",
      "34629922521 Prueba 7\n",
      "34629922521 Prueba 8\n",
      "34629922521 Prueba 9\n",
      "34629922521 Prueba 10\n"
     ]
    }
   ],
   "source": [
    "for i in range (2, sheet.max_row + 1):\n",
    "    cell_numero = 'A' + str(i)\n",
    "    cell_mensaje = 'B' + str(i)\n",
    "    numero = str(sheet[cell_numero].value)[1:]\n",
    "    mensaje = sheet[cell_mensaje].value\n",
    "    print (numero, mensaje)\n",
    "  "
   ]
  },
  {
   "cell_type": "code",
   "execution_count": 36,
   "metadata": {},
   "outputs": [
    {
     "data": {
      "text/plain": [
       "float"
      ]
     },
     "execution_count": 36,
     "metadata": {},
     "output_type": "execute_result"
    }
   ],
   "source": [
    "type (sheet['A2'].value)"
   ]
  },
  {
   "cell_type": "code",
   "execution_count": null,
   "metadata": {},
   "outputs": [],
   "source": []
  }
 ],
 "metadata": {
  "interpreter": {
   "hash": "b5576db682f96748da084f50b260e184afecc8bc781e6f7528b62d230939b223"
  },
  "kernelspec": {
   "display_name": "Python 3.10.0 64-bit ('.venv': venv)",
   "name": "python3"
  },
  "language_info": {
   "codemirror_mode": {
    "name": "ipython",
    "version": 3
   },
   "file_extension": ".py",
   "mimetype": "text/x-python",
   "name": "python",
   "nbconvert_exporter": "python",
   "pygments_lexer": "ipython3",
   "version": "3.10.0"
  },
  "orig_nbformat": 4
 },
 "nbformat": 4,
 "nbformat_minor": 2
}
